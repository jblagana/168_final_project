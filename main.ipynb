{
 "cells": [
  {
   "cell_type": "code",
   "execution_count": 11,
   "metadata": {},
   "outputs": [],
   "source": [
    "import opendssdirect as dss\n",
    "# import pygad\n",
    "\n",
    "dss.Text.Command('Redirect ieee13.dss')"
   ]
  },
  {
   "cell_type": "code",
   "execution_count": 19,
   "metadata": {},
   "outputs": [
    {
     "name": "stdout",
     "output_type": "stream",
     "text": [
      "['sourcebus.1', 'sourcebus.2', 'sourcebus.3', '632.2', '632.1', '632.3', '670.2', '670.1', '670.3', '671.2', '671.1', '671.3', '680.2', '680.1', '680.3', '633.3', '633.1', '633.2', '645.3', '645.2', '646.3', '646.2', '684.1', '684.3', '611.3', '692.1', '692.2', '692.3', '675.1', '675.2', '675.3', '652.1', '634.1', '634.2', '634.3']\n"
     ]
    }
   ],
   "source": [
    "gene_space = dss.Circuit.AllNodeNames()\n",
    "print(gene_space)    "
   ]
  },
  {
   "cell_type": "code",
   "execution_count": 16,
   "metadata": {},
   "outputs": [
    {
     "name": "stdout",
     "output_type": "stream",
     "text": [
      "Capacitor: 1, Bus Location: 632.1\n",
      "Capacitor: 2, Bus Location: 632.2\n"
     ]
    }
   ],
   "source": [
    "def show_caps():\n",
    "    cap_locations = {}\n",
    "    cap_name = dss.Capacitors.First()\n",
    "\n",
    "    while cap_name:\n",
    "        cap_loc = dss.CktElement.BusNames()[0]\n",
    "        cap_locations[cap_name] = cap_loc\n",
    "\n",
    "        cap_name = dss.Capacitors.Next()\n",
    "\n",
    "    for cap, bus in cap_locations.items():\n",
    "        print(f\"Capacitor: {cap}, Bus Location: {bus}\")\n",
    "\n",
    "show_caps()"
   ]
  },
  {
   "cell_type": "code",
   "execution_count": 14,
   "metadata": {},
   "outputs": [
    {
     "name": "stdout",
     "output_type": "stream",
     "text": [
      "[0.9999902234459793, 0.9999924470623666, 0.9999898901594848, 0.9868767545264691, 0.9607194881454605, 0.9558476373100919, 0.9904326989039051, 0.9471960559577834, 0.9328079273065725, 0.9959831923092621, 0.9335878209689483, 0.9126813598819559, 0.9959832655523073, 0.9335878968246255, 0.9126814292881785, 0.9536506741624595, 0.9574426127827232, 0.9846117767291467, 0.9580626998910328, 0.9777454425819552, 0.9584578219437788, 0.9762100913317869, 0.9318279330350326, 0.9099770726151002, 0.9072740182999758, 0.9334995394040666, 0.9959954567611465, 0.9126083847727617, 0.9268750466064315, 0.9981814850149885, 0.9107386981964888, 0.9265650310913325, 0.9328297734346336, 0.9651773569615351, 0.9342484899145057]\n"
     ]
    }
   ],
   "source": [
    "node_voltages = dss.Circuit.AllBusMagPu()\n",
    "print(node_voltages)"
   ]
  },
  {
   "cell_type": "code",
   "execution_count": 17,
   "metadata": {},
   "outputs": [],
   "source": [
    "dss.Solution.Solve()"
   ]
  },
  {
   "cell_type": "code",
   "execution_count": 18,
   "metadata": {},
   "outputs": [
    {
     "name": "stdout",
     "output_type": "stream",
     "text": [
      "[0.9999904592307869, 0.9999928291482064, 0.999989783308847, 0.9889748980858662, 0.961075014110464, 0.9549650112338424, 0.9887096705293532, 0.9443297064811351, 0.9276396897670386, 0.9904417819686586, 0.9273957612047853, 0.9031705034405086, 0.9904418548548636, 0.9273958365324864, 0.9031705720994916, 0.9527706776625887, 0.95779644035926, 0.9867153500491955, 0.9571757636572584, 0.9798523073945375, 0.9575713951773056, 0.978313647744126, 0.9256635285178622, 0.9001033576432631, 0.897035923675267, 0.9272766292206384, 0.9904193993064145, 0.903067328298983, 0.919622860881949, 0.9912806015631792, 0.8997945191124247, 0.9204354427192517, 0.9331735166863021, 0.9673244828614687, 0.933388321181653]\n"
     ]
    }
   ],
   "source": [
    "node_voltages = dss.Circuit.AllBusMagPu()\n",
    "print(node_voltages)"
   ]
  },
  {
   "cell_type": "code",
   "execution_count": 72,
   "metadata": {},
   "outputs": [
    {
     "name": "stdout",
     "output_type": "stream",
     "text": [
      "Fitness: 0.0030310628681134945\n"
     ]
    }
   ],
   "source": [
    "def fitness_func(node_voltages):\n",
    "    nominal_voltage = 1\n",
    "    # Calculate the mean squared error\n",
    "    mse = sum((v - nominal_voltage) ** 2 for v in node_voltages) / len(node_voltages)\n",
    "    return mse\n",
    "\n",
    "# fitness = fitness_func(node_voltages)\n",
    "# print(\"Fitness:\", fitness)\n"
   ]
  },
  {
   "cell_type": "code",
   "execution_count": 15,
   "metadata": {},
   "outputs": [],
   "source": [
    "def edit_cap_loc(new_buses):\n",
    "    # Set the first capacitor active and get its name\n",
    "    cap_names = dss.Capacitors.AllNames()\n",
    "\n",
    "    for i, cap in enumerate(cap_names):\n",
    "        # Set the new bus of the active capacitor\n",
    "        dss.Text.Command(f'Edit Capacitor.{cap} bus1={new_buses[i]}')\n",
    "\n",
    "new_buses = [632.1,632.2]\n",
    "edit_cap_loc(new_buses)"
   ]
  },
  {
   "cell_type": "code",
   "execution_count": 80,
   "metadata": {},
   "outputs": [
    {
     "data": {
      "text/plain": [
       "['c1', 'c2']"
      ]
     },
     "execution_count": 80,
     "metadata": {},
     "output_type": "execute_result"
    }
   ],
   "source": [
    "import pygad\n",
    "import numpy as np\n",
    "\n",
    "\n",
    "ga_instance = pygad.GA(\n",
    "    num_generations=100,\n",
    "    num_parents_mating=5,\n",
    "    fitness_func=fitness_func,\n",
    "    sol_per_pop=10,\n",
    "    num_genes=2,\n",
    "    gene_space=gene_space\n",
    ")\n",
    "\n",
    "ga_instance.run()\n",
    "solution, solution_fitness, solution_idx = ga_instance.best_solution()\n",
    "print(\"Best solution : \", solution)\n",
    "print(\"Best solution fitness : \", solution_fitness)\n"
   ]
  },
  {
   "cell_type": "code",
   "execution_count": 20,
   "metadata": {},
   "outputs": [],
   "source": [
    "def gene_space(num_R, num_C, num_L):\n",
    "    # returns the gene space given the component types\n",
    "    global std_R, std_C, std_L\n",
    "    return [std_R]*num_R + [std_C]*num_C + [std_L]*num_L"
   ]
  },
  {
   "cell_type": "code",
   "execution_count": 25,
   "metadata": {},
   "outputs": [],
   "source": [
    "std_R = [1,2]\n",
    "std_C = [3,4]\n",
    "std_L = [5,6]"
   ]
  },
  {
   "cell_type": "code",
   "execution_count": 26,
   "metadata": {},
   "outputs": [],
   "source": [
    "x = gene_space(2,1,1)"
   ]
  },
  {
   "cell_type": "code",
   "execution_count": 27,
   "metadata": {},
   "outputs": [
    {
     "data": {
      "text/plain": [
       "[[1, 2], [1, 2], [3, 4], [5, 6]]"
      ]
     },
     "execution_count": 27,
     "metadata": {},
     "output_type": "execute_result"
    }
   ],
   "source": [
    "x"
   ]
  },
  {
   "cell_type": "code",
   "execution_count": 28,
   "metadata": {},
   "outputs": [
    {
     "data": {
      "text/plain": [
       "[[1, 2], [1, 2]]"
      ]
     },
     "execution_count": 28,
     "metadata": {},
     "output_type": "execute_result"
    }
   ],
   "source": [
    "[[1,2]]*2"
   ]
  },
  {
   "cell_type": "code",
   "execution_count": null,
   "metadata": {},
   "outputs": [],
   "source": []
  }
 ],
 "metadata": {
  "kernelspec": {
   "display_name": "Python 3",
   "language": "python",
   "name": "python3"
  },
  "language_info": {
   "codemirror_mode": {
    "name": "ipython",
    "version": 3
   },
   "file_extension": ".py",
   "mimetype": "text/x-python",
   "name": "python",
   "nbconvert_exporter": "python",
   "pygments_lexer": "ipython3",
   "version": "3.12.0"
  }
 },
 "nbformat": 4,
 "nbformat_minor": 2
}
