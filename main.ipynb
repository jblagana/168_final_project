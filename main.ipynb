{
 "cells": [
  {
   "cell_type": "code",
   "execution_count": 104,
   "metadata": {},
   "outputs": [],
   "source": [
    "import random\n",
    "import opendssdirect as dss\n",
    "\n",
    "dss.Text.Command('Redirect ieee13.dss')"
   ]
  },
  {
   "cell_type": "code",
   "execution_count": 106,
   "metadata": {},
   "outputs": [],
   "source": [
    "gene_space = dss.Circuit.AllNodeNames()\n",
    "# print(nodes)"
   ]
  },
  {
   "cell_type": "code",
   "execution_count": 105,
   "metadata": {},
   "outputs": [
    {
     "name": "stdout",
     "output_type": "stream",
     "text": [
      "Capacitor: 1, Bus Location: 675\n",
      "Capacitor: 2, Bus Location: 611.3\n"
     ]
    }
   ],
   "source": [
    "cap_locations = {}\n",
    "cap_name = dss.Capacitors.First()\n",
    "\n",
    "while cap_name:\n",
    "    cap_loc = dss.CktElement.BusNames()[0]\n",
    "    cap_locations[cap_name] = cap_loc\n",
    "\n",
    "    cap_name = dss.Capacitors.Next()\n",
    "\n",
    "for cap, bus in cap_locations.items():\n",
    "    print(f\"Capacitor: {cap}, Bus Location: {bus}\")"
   ]
  },
  {
   "cell_type": "code",
   "execution_count": 102,
   "metadata": {},
   "outputs": [],
   "source": [
    "node_voltages = dss.Circuit.AllBusMagPu()\n",
    "# print(node_voltages)"
   ]
  },
  {
   "cell_type": "code",
   "execution_count": 72,
   "metadata": {},
   "outputs": [
    {
     "name": "stdout",
     "output_type": "stream",
     "text": [
      "Fitness: 0.0030310628681134945\n"
     ]
    }
   ],
   "source": [
    "def fitness_func(node_voltages):\n",
    "    nominal_voltage = 1\n",
    "    # Calculate the mean squared error\n",
    "    mse = sum((v - nominal_voltage) ** 2 for v in node_voltages) / len(node_voltages)\n",
    "    return mse\n",
    "\n",
    "# fitness = fitness_func(node_voltages)\n",
    "# print(\"Fitness:\", fitness)\n"
   ]
  },
  {
   "cell_type": "code",
   "execution_count": null,
   "metadata": {},
   "outputs": [],
   "source": [
    "def simulate(file_path, old_bus, new_bus):\n",
    "    # Load the DSS file\n",
    "    dss.Text.Command(f'Redirect {file_path}')\n",
    "\n",
    "    # Set the first capacitor active and get its name\n",
    "    cap_name = dss.Capacitors.First()\n",
    "\n",
    "    while cap_name:\n",
    "        # Get the bus of the active capacitor\n",
    "        cap_bus = dss.CktElement.BusNames()[0]\n",
    "\n",
    "        # If the capacitor is at the bus you want to change, set the new bus\n",
    "        if cap_bus == old_bus:\n",
    "            dss.Capacitors.Bus1(new_bus)\n",
    "\n",
    "        # Set the next capacitor active and get its name\n",
    "        cap_name = dss.Capacitors.Next()\n",
    "\n",
    "    # Simulate the DSS file\n",
    "    dss.Solution.Solve()\n",
    "\n",
    "    print('Simulation completed.')\n"
   ]
  },
  {
   "cell_type": "code",
   "execution_count": 99,
   "metadata": {},
   "outputs": [
    {
     "name": "stdout",
     "output_type": "stream",
     "text": [
      "Capacitor: 1, Bus Location: 632.1\n",
      "Capacitor: 2, Bus Location: 632.2\n"
     ]
    }
   ],
   "source": [
    "def edit_cap_loc(new_buses):\n",
    "    # Set the first capacitor active and get its name\n",
    "    cap_names = dss.Capacitors.AllNames()\n",
    "\n",
    "    for i, cap in enumerate(cap_names):\n",
    "        # Set the new bus of the active capacitor\n",
    "        dss.Text.Command(f'Edit Capacitor.{cap} bus1={new_buses[i]}')"
   ]
  },
  {
   "cell_type": "code",
   "execution_count": 80,
   "metadata": {},
   "outputs": [
    {
     "data": {
      "text/plain": [
       "['c1', 'c2']"
      ]
     },
     "execution_count": 80,
     "metadata": {},
     "output_type": "execute_result"
    }
   ],
   "source": [
    "import pygad\n",
    "import numpy as np\n",
    "\n",
    "\n",
    "ga_instance = pygad.GA(\n",
    "    num_generations=100,\n",
    "    num_parents_mating=5,\n",
    "    fitness_func=fitness_func,\n",
    "    sol_per_pop=10,\n",
    "    num_genes=2,\n",
    "    gene_space=gene_space\n",
    ")\n",
    "\n",
    "ga_instance.run()\n",
    "solution, solution_fitness, solution_idx = ga_instance.best_solution()\n",
    "print(\"Best solution : \", solution)\n",
    "print(\"Best solution fitness : \", solution_fitness)\n"
   ]
  }
 ],
 "metadata": {
  "kernelspec": {
   "display_name": "Python 3",
   "language": "python",
   "name": "python3"
  },
  "language_info": {
   "codemirror_mode": {
    "name": "ipython",
    "version": 3
   },
   "file_extension": ".py",
   "mimetype": "text/x-python",
   "name": "python",
   "nbconvert_exporter": "python",
   "pygments_lexer": "ipython3",
   "version": "3.12.0"
  }
 },
 "nbformat": 4,
 "nbformat_minor": 2
}
